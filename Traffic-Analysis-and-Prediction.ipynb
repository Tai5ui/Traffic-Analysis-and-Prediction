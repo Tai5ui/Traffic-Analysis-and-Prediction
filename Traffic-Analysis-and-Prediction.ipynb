{
 "cells": [
  {
   "cell_type": "markdown",
   "id": "88bb9a7d",
   "metadata": {},
   "source": [
    "Before you turn this problem in, make sure everything runs as expected. First, **restart the kernel** (in the menubar, select Kernel $\\rightarrow$ Restart) and then **run all cells** (in the menubar, select Cell $\\rightarrow$ Run All).\n",
    "\n",
    "Make sure you fill in any place that says `YOUR CODE HERE` or \"YOUR ANSWER HERE\", as well as your name and collaborators below:"
   ]
  },
  {
   "cell_type": "code",
   "execution_count": null,
   "id": "b2ca2d6f",
   "metadata": {},
   "outputs": [],
   "source": [
    "NAME = \"Jiawen Miao\"\n",
    "COLLABORATORS = \"\""
   ]
  },
  {
   "cell_type": "markdown",
   "id": "d49f1254",
   "metadata": {},
   "source": [
    "---"
   ]
  },
  {
   "cell_type": "code",
   "execution_count": 3,
   "id": "eb7bcfc8-c164-4d51-968d-428131063d16",
   "metadata": {},
   "outputs": [
    {
     "name": "stdout",
     "output_type": "stream",
     "text": [
      "          Time  Date Day of the week  CarCount  BikeCount  BusCount  \\\n",
      "0  12:00:00 AM    10         Tuesday        31          0         4   \n",
      "1  12:15:00 AM    10         Tuesday        49          0         3   \n",
      "2  12:30:00 AM    10         Tuesday        46          0         3   \n",
      "3  12:45:00 AM    10         Tuesday        51          0         2   \n",
      "4   1:00:00 AM    10         Tuesday        57          6        15   \n",
      "\n",
      "   TruckCount  Total Traffic Situation  \n",
      "0           4     39               low  \n",
      "1           3     55               low  \n",
      "2           6     55               low  \n",
      "3           5     58               low  \n",
      "4          16     94            normal  \n",
      "<class 'pandas.core.frame.DataFrame'>\n",
      "RangeIndex: 2976 entries, 0 to 2975\n",
      "Data columns (total 9 columns):\n",
      " #   Column             Non-Null Count  Dtype \n",
      "---  ------             --------------  ----- \n",
      " 0   Time               2976 non-null   object\n",
      " 1   Date               2976 non-null   int64 \n",
      " 2   Day of the week    2976 non-null   object\n",
      " 3   CarCount           2976 non-null   int64 \n",
      " 4   BikeCount          2976 non-null   int64 \n",
      " 5   BusCount           2976 non-null   int64 \n",
      " 6   TruckCount         2976 non-null   int64 \n",
      " 7   Total              2976 non-null   int64 \n",
      " 8   Traffic Situation  2976 non-null   object\n",
      "dtypes: int64(6), object(3)\n",
      "memory usage: 209.4+ KB\n",
      "None\n",
      "Time                 0\n",
      "Date                 0\n",
      "Day of the week      0\n",
      "CarCount             0\n",
      "BikeCount            0\n",
      "BusCount             0\n",
      "TruckCount           0\n",
      "Total                0\n",
      "Traffic Situation    0\n",
      "dtype: int64\n"
     ]
    }
   ],
   "source": [
    "import pandas as pd\n",
    "\n",
    "# Load the dataset\n",
    "data = pd.read_csv('Traffic.csv')\n",
    "\n",
    "# Display the first few rows\n",
    "print(data.head())\n",
    "\n",
    "# Display the structure of the dataset\n",
    "print(data.info())\n",
    "\n",
    "# Check for missing values\n",
    "print(data.isnull().sum())"
   ]
  },
  {
   "cell_type": "code",
   "execution_count": 5,
   "id": "6193ee19-8bf1-4f16-b782-261ced78a099",
   "metadata": {},
   "outputs": [
    {
     "name": "stdout",
     "output_type": "stream",
     "text": [
      "[10 11 12 13 14 15 16 17 18 19 20 21 22 23 24 25 26 27 28 29 30 31  1  2\n",
      "  3  4  5  6  7  8  9]\n"
     ]
    }
   ],
   "source": [
    "# Ensure Date is formatted correctly (if needed)\n",
    "print(data['Date'].unique())  # Verify unique values"
   ]
  },
  {
   "cell_type": "code",
   "execution_count": 6,
   "id": "1fe552a4-772f-4d98-bf0a-b4ef3d674b70",
   "metadata": {},
   "outputs": [
    {
     "name": "stdout",
     "output_type": "stream",
     "text": [
      "       Time  Date Day of the week  CarCount  BikeCount  BusCount  TruckCount  \\\n",
      "0  00:00:00    10         Tuesday        31          0         4           4   \n",
      "1  00:15:00    10         Tuesday        49          0         3           3   \n",
      "2  00:30:00    10         Tuesday        46          0         3           6   \n",
      "3  00:45:00    10         Tuesday        51          0         2           5   \n",
      "4  01:00:00    10         Tuesday        57          6        15          16   \n",
      "\n",
      "   Total Traffic Situation  \n",
      "0     39               low  \n",
      "1     55               low  \n",
      "2     55               low  \n",
      "3     58               low  \n",
      "4     94            normal  \n",
      "<class 'pandas.core.frame.DataFrame'>\n",
      "RangeIndex: 2976 entries, 0 to 2975\n",
      "Data columns (total 9 columns):\n",
      " #   Column             Non-Null Count  Dtype \n",
      "---  ------             --------------  ----- \n",
      " 0   Time               2976 non-null   object\n",
      " 1   Date               2976 non-null   int64 \n",
      " 2   Day of the week    2976 non-null   object\n",
      " 3   CarCount           2976 non-null   int64 \n",
      " 4   BikeCount          2976 non-null   int64 \n",
      " 5   BusCount           2976 non-null   int64 \n",
      " 6   TruckCount         2976 non-null   int64 \n",
      " 7   Total              2976 non-null   int64 \n",
      " 8   Traffic Situation  2976 non-null   object\n",
      "dtypes: int64(6), object(3)\n",
      "memory usage: 209.4+ KB\n",
      "None\n"
     ]
    }
   ],
   "source": [
    "# Convert Time column to datetime.time format\n",
    "data['Time'] = pd.to_datetime(data['Time'], format='%I:%M:%S %p').dt.time\n",
    "\n",
    "# Verify the updated column\n",
    "print(data.head())\n",
    "print(data.info())"
   ]
  },
  {
   "cell_type": "code",
   "execution_count": null,
   "id": "2db83111-bf1c-42d5-a2ba-1be22a552608",
   "metadata": {},
   "outputs": [],
   "source": [
    "import matplotlib.pyplot as plt\n",
    "\n",
    "# Group by Time and calculate average total traffic\n",
    "time_traffic = data.groupby('Time')['Total'].mean()\n",
    "\n",
    "# Plot the traffic pattern\n",
    "plt.figure(figsize=(12, 6))\n",
    "time_traffic.plot(kind='line')\n",
    "plt.title('Average Traffic by Time of Day')\n",
    "plt.xlabel('Time')\n",
    "plt.ylabel('Average Total Traffic')\n",
    "plt.grid(True)\n",
    "plt.show()"
   ]
  },
  {
   "cell_type": "code",
   "execution_count": 8,
   "id": "4f8c7060-10a1-4083-bce8-289c3e6dea34",
   "metadata": {},
   "outputs": [
    {
     "data": {
      "image/png": "[encoded data removed]",
      "text/plain": [
       "<Figure size 800x500 with 1 Axes>"
      ]
     },
     "metadata": {},
     "output_type": "display_data"
    }
   ],
   "source": [
    "# Group by Day of the Week and calculate average total traffic\n",
    "weekday_traffic = data.groupby('Day of the week')['Total'].mean()\n",
    "\n",
    "# Plot the traffic pattern\n",
    "plt.figure(figsize=(8, 5))\n",
    "weekday_traffic.plot(kind='bar')\n",
    "plt.title('Average Traffic by Day of the Week')\n",
    "plt.xlabel('Day of the Week')\n",
    "plt.ylabel('Average Total Traffic')\n",
    "plt.grid(True)\n",
    "plt.show()"
   ]
  },
  {
   "cell_type": "code",
   "execution_count": 9,
   "id": "91ecc158-cf88-438c-bee4-d25f8dd12833",
   "metadata": {},
   "outputs": [
    {
     "data": {
      "image/png": "[encoded data removed]",
      "text/plain": [
       "<Figure size 800x500 with 1 Axes>"
      ]
     },
     "metadata": {},
     "output_type": "display_data"
    }
   ],
   "source": [
    "# Count the occurrences of each traffic situation\n",
    "situation_counts = data['Traffic Situation'].value_counts()\n",
    "\n",
    "# Plot the distribution\n",
    "plt.figure(figsize=(8, 5))\n",
    "situation_counts.plot(kind='pie', autopct='%1.1f%%')\n",
    "plt.title('Traffic Situation Distribution')\n",
    "plt.ylabel('')\n",
    "plt.show()"
   ]
  },
  {
   "cell_type": "code",
   "execution_count": 10,
   "id": "0e86836e-fde6-4e2f-9143-85e0b69e5b23",
   "metadata": {},
   "outputs": [
    {
     "name": "stdout",
     "output_type": "stream",
     "text": [
      "       Time  Date  CarCount  BikeCount  BusCount  TruckCount  Total  \\\n",
      "0  00:00:00    10        31          0         4           4     39   \n",
      "1  00:15:00    10        49          0         3           3     55   \n",
      "2  00:30:00    10        46          0         3           6     55   \n",
      "3  00:45:00    10        51          0         2           5     58   \n",
      "4  01:00:00    10        57          6        15          16     94   \n",
      "\n",
      "   DayOfWeekEncoded  TrafficSituationEncoded  \n",
      "0                 5                        2  \n",
      "1                 5                        2  \n",
      "2                 5                        2  \n",
      "3                 5                        2  \n",
      "4                 5                        3  \n"
     ]
    }
   ],
   "source": [
    "from sklearn.preprocessing import LabelEncoder\n",
    "\n",
    "# Encode 'Day of the week' and 'Traffic Situation'\n",
    "encoder = LabelEncoder()\n",
    "data['DayOfWeekEncoded'] = encoder.fit_transform(data['Day of the week'])\n",
    "data['TrafficSituationEncoded'] = encoder.fit_transform(data['Traffic Situation'])\n",
    "\n",
    "# Drop the original columns (optional)\n",
    "data = data.drop(columns=['Day of the week', 'Traffic Situation'])\n",
    "\n",
    "# Verify the changes\n",
    "print(data.head())"
   ]
  },
  {
   "cell_type": "code",
   "execution_count": 11,
   "id": "25845bae-d7e3-4022-9403-355cfce21d01",
   "metadata": {},
   "outputs": [
    {
     "name": "stdout",
     "output_type": "stream",
     "text": [
      "   Date  CarCount  BikeCount  BusCount  TruckCount  Total  DayOfWeekEncoded  \\\n",
      "0    10        31          0         4           4     39                 5   \n",
      "1    10        49          0         3           3     55                 5   \n",
      "2    10        46          0         3           6     55                 5   \n",
      "3    10        51          0         2           5     58                 5   \n",
      "4    10        57          6        15          16     94                 5   \n",
      "\n",
      "   TrafficSituationEncoded  Hour  \n",
      "0                        2     0  \n",
      "1                        2     0  \n",
      "2                        2     0  \n",
      "3                        2     0  \n",
      "4                        3     1  \n"
     ]
    }
   ],
   "source": [
    "# Extract hour from Time\n",
    "data['Hour'] = pd.to_datetime(data['Time'].astype(str), format='%H:%M:%S').dt.hour\n",
    "\n",
    "# Drop the original 'Time' column if not needed\n",
    "data = data.drop(columns=['Time'])\n",
    "\n",
    "# Verify the changes\n",
    "print(data.head())"
   ]
  },
  {
   "cell_type": "code",
   "execution_count": 12,
   "id": "3ebf346e-fb5d-4df8-bf0c-683361db4a62",
   "metadata": {},
   "outputs": [
    {
     "name": "stdout",
     "output_type": "stream",
     "text": [
      "X_train shape: (2380, 7)\n",
      "X_test shape: (596, 7)\n"
     ]
    }
   ],
   "source": [
    "# Define features and target\n",
    "X = data[['CarCount', 'BikeCount', 'BusCount', 'TruckCount', 'Hour', 'DayOfWeekEncoded', 'TrafficSituationEncoded']]\n",
    "y = data['Total']\n",
    "\n",
    "# Split into training and testing sets\n",
    "from sklearn.model_selection import train_test_split\n",
    "X_train, X_test, y_train, y_test = train_test_split(X, y, test_size=0.2, random_state=42)\n",
    "\n",
    "# Verify the splits\n",
    "print(f\"X_train shape: {X_train.shape}\")\n",
    "print(f\"X_test shape: {X_test.shape}\")"
   ]
  },
  {
   "cell_type": "code",
   "execution_count": 13,
   "id": "ee457dbb-8514-4266-b25c-a2b233b0eec0",
   "metadata": {},
   "outputs": [
    {
     "name": "stdout",
     "output_type": "stream",
     "text": [
      "Linear Regression - MAE: 2.3253583994967708e-14, MSE: 7.610972368520253e-28, R2: 1.0\n"
     ]
    }
   ],
   "source": [
    "from sklearn.linear_model import LinearRegression\n",
    "from sklearn.metrics import mean_absolute_error, mean_squared_error, r2_score\n",
    "\n",
    "# Initialize the model\n",
    "lr_model = LinearRegression()\n",
    "\n",
    "# Train the model\n",
    "lr_model.fit(X_train, y_train)\n",
    "\n",
    "# Predict on the test set\n",
    "y_pred_lr = lr_model.predict(X_test)\n",
    "\n",
    "# Evaluate the model\n",
    "mae_lr = mean_absolute_error(y_test, y_pred_lr)\n",
    "mse_lr = mean_squared_error(y_test, y_pred_lr)\n",
    "r2_lr = r2_score(y_test, y_pred_lr)\n",
    "\n",
    "print(f\"Linear Regression - MAE: {mae_lr}, MSE: {mse_lr}, R2: {r2_lr}\")"
   ]
  },
  {
   "cell_type": "code",
   "execution_count": 14,
   "id": "d014781a-3fe9-42f1-a73e-1ae5f6a6a250",
   "metadata": {},
   "outputs": [
    {
     "name": "stdout",
     "output_type": "stream",
     "text": [
      "Random Forest - MAE: 2.66, MSE: 13.60, R2: 1.00\n"
     ]
    }
   ],
   "source": [
    "from sklearn.ensemble import RandomForestRegressor\n",
    "\n",
    "# Initialize the model\n",
    "rf_model = RandomForestRegressor(n_estimators=100, random_state=42)\n",
    "\n",
    "# Train the model\n",
    "rf_model.fit(X_train, y_train)\n",
    "\n",
    "# Predict on the test set\n",
    "y_pred_rf = rf_model.predict(X_test)\n",
    "\n",
    "# Evaluate the model\n",
    "mae_rf = mean_absolute_error(y_test, y_pred_rf)\n",
    "mse_rf = mean_squared_error(y_test, y_pred_rf)\n",
    "r2_rf = r2_score(y_test, y_pred_rf)\n",
    "\n",
    "print(f\"Random Forest - MAE: {mae_rf:.2f}, MSE: {mse_rf:.2f}, R2: {r2_rf:.2f}\")"
   ]
  },
  {
   "cell_type": "code",
   "execution_count": 15,
   "id": "9e4da630-7387-489b-9e08-ed26d9445237",
   "metadata": {},
   "outputs": [
    {
     "name": "stdout",
     "output_type": "stream",
     "text": [
      "Number of mismatches: 0\n"
     ]
    }
   ],
   "source": [
    "# Check if Total is the sum of vehicle counts\n",
    "data['CalculatedTotal'] = data['CarCount'] + data['BikeCount'] + data['BusCount'] + data['TruckCount']\n",
    "\n",
    "# Verify mismatches\n",
    "mismatches = data[data['Total'] != data['CalculatedTotal']]\n",
    "print(f\"Number of mismatches: {len(mismatches)}\")"
   ]
  },
  {
   "cell_type": "code",
   "execution_count": null,
   "id": "15ecda8f-fc05-4dc1-b19e-46e7fc9b690d",
   "metadata": {},
   "outputs": [],
   "source": []
  }
 ],
 "metadata": {
  "kernelspec": {
   "display_name": "Python 3 (ipykernel)",
   "language": "python",
   "name": "python3"
  },
  "language_info": {
   "codemirror_mode": {
    "name": "ipython",
    "version": 3
   },
   "file_extension": ".py",
   "mimetype": "text/x-python",
   "name": "python",
   "nbconvert_exporter": "python",
   "pygments_lexer": "ipython3",
   "version": "3.12.2"
  }
 },
 "nbformat": 4,
 "nbformat_minor": 5
}
