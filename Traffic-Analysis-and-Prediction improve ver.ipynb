{
 "cells": [
  {
   "cell_type": "markdown",
   "id": "88bb9a7d",
   "metadata": {},
   "source": [
    "Before you turn this problem in, make sure everything runs as expected. First, **restart the kernel** (in the menubar, select Kernel $\\rightarrow$ Restart) and then **run all cells** (in the menubar, select Cell $\\rightarrow$ Run All).\n",
    "\n",
    "Make sure you fill in any place that says `YOUR CODE HERE` or \"YOUR ANSWER HERE\", as well as your name and collaborators below:"
   ]
  },
  {
   "cell_type": "code",
   "execution_count": null,
   "id": "b2ca2d6f",
   "metadata": {},
   "outputs": [],
   "source": [
    "NAME = \"Jiawen Miao\"\n",
    "COLLABORATORS = \"\""
   ]
  },
  {
   "cell_type": "markdown",
   "id": "d49f1254",
   "metadata": {},
   "source": [
    "---"
   ]
  },
  {
   "cell_type": "code",
   "execution_count": 1,
   "id": "20eb8b0b-7454-4e57-bcb6-7d3a03a0bb62",
   "metadata": {},
   "outputs": [
    {
     "name": "stdout",
     "output_type": "stream",
     "text": [
      "First 5 rows of the dataset:\n",
      "          Time  Date Day of the week  CarCount  BikeCount  BusCount  \\\n",
      "0  12:00:00 AM    10         Tuesday        31          0         4   \n",
      "1  12:15:00 AM    10         Tuesday        49          0         3   \n",
      "2  12:30:00 AM    10         Tuesday        46          0         3   \n",
      "3  12:45:00 AM    10         Tuesday        51          0         2   \n",
      "4   1:00:00 AM    10         Tuesday        57          6        15   \n",
      "\n",
      "   TruckCount  Total Traffic Situation  \n",
      "0           4     39               low  \n",
      "1           3     55               low  \n",
      "2           6     55               low  \n",
      "3           5     58               low  \n",
      "4          16     94            normal  \n",
      "\n",
      "Dataset Information:\n",
      "<class 'pandas.core.frame.DataFrame'>\n",
      "RangeIndex: 2976 entries, 0 to 2975\n",
      "Data columns (total 9 columns):\n",
      " #   Column             Non-Null Count  Dtype \n",
      "---  ------             --------------  ----- \n",
      " 0   Time               2976 non-null   object\n",
      " 1   Date               2976 non-null   int64 \n",
      " 2   Day of the week    2976 non-null   object\n",
      " 3   CarCount           2976 non-null   int64 \n",
      " 4   BikeCount          2976 non-null   int64 \n",
      " 5   BusCount           2976 non-null   int64 \n",
      " 6   TruckCount         2976 non-null   int64 \n",
      " 7   Total              2976 non-null   int64 \n",
      " 8   Traffic Situation  2976 non-null   object\n",
      "dtypes: int64(6), object(3)\n",
      "memory usage: 209.4+ KB\n",
      "None\n",
      "\n",
      "Missing values in the dataset:\n",
      "Time                 0\n",
      "Date                 0\n",
      "Day of the week      0\n",
      "CarCount             0\n",
      "BikeCount            0\n",
      "BusCount             0\n",
      "TruckCount           0\n",
      "Total                0\n",
      "Traffic Situation    0\n",
      "dtype: int64\n"
     ]
    }
   ],
   "source": [
    "# Import necessary libraries\n",
    "import pandas as pd\n",
    "import numpy as np\n",
    "import matplotlib.pyplot as plt\n",
    "\n",
    "# Load the dataset\n",
    "data = pd.read_csv('Traffic.csv')\n",
    "\n",
    "# Display the first few rows\n",
    "print(\"First 5 rows of the dataset:\")\n",
    "print(data.head())\n",
    "\n",
    "# Display dataset info (column names, data types, and non-null counts)\n",
    "print(\"\\nDataset Information:\")\n",
    "print(data.info())\n",
    "\n",
    "# Check for missing values\n",
    "print(\"\\nMissing values in the dataset:\")\n",
    "print(data.isnull().sum())"
   ]
  },
  {
   "cell_type": "code",
   "execution_count": 4,
   "id": "994ae2e3-fcb4-4544-88a5-6bfd3710ba98",
   "metadata": {},
   "outputs": [
    {
     "name": "stdout",
     "output_type": "stream",
     "text": [
      "Number of duplicate rows: 0\n",
      "Dataset shape after removing duplicates: (2899, 10)\n",
      "Number of rows with outliers: 0\n",
      "Dataset shape after removing outliers: (2899, 10)\n"
     ]
    }
   ],
   "source": [
    "# Check for duplicate rows\n",
    "duplicates = data.duplicated()\n",
    "print(f\"Number of duplicate rows: {duplicates.sum()}\")\n",
    "\n",
    "# Remove duplicates if any exist\n",
    "data = data.drop_duplicates()\n",
    "print(f\"Dataset shape after removing duplicates: {data.shape}\")\n",
    "\n",
    "# Check for outliers in numerical columns\n",
    "numerical_cols = ['CarCount', 'BikeCount', 'BusCount', 'TruckCount', 'Total']\n",
    "Q1 = data[numerical_cols].quantile(0.25)\n",
    "Q3 = data[numerical_cols].quantile(0.75)\n",
    "IQR = Q3 - Q1\n",
    "\n",
    "# Define lower and upper bounds for acceptable values\n",
    "lower_bound = Q1 - 1.5 * IQR\n",
    "upper_bound = Q3 + 1.5 * IQR\n",
    "\n",
    "# Identify rows with outliers\n",
    "outliers = ((data[numerical_cols] < lower_bound) | (data[numerical_cols] > upper_bound)).any(axis=1)\n",
    "print(f\"Number of rows with outliers: {outliers.sum()}\")\n",
    "\n",
    "# Filter out rows with outliers\n",
    "data = data[~outliers]\n",
    "print(f\"Dataset shape after removing outliers: {data.shape}\")\n"
   ]
  },
  {
   "cell_type": "code",
   "execution_count": 6,
   "id": "2e00b8a7-acd9-40dd-b987-59a189379860",
   "metadata": {},
   "outputs": [
    {
     "name": "stdout",
     "output_type": "stream",
     "text": [
      "Available columns in the dataset:\n",
      "Index(['Date', 'CarCount', 'BikeCount', 'BusCount', 'TruckCount', 'Total',\n",
      "       'Hour', 'Vehicle_Hourly_Interaction', 'IsWeekend',\n",
      "       'TrafficSituationEncoded'],\n",
      "      dtype='object')\n"
     ]
    }
   ],
   "source": [
    "print(\"Available columns in the dataset:\")\n",
    "print(data.columns)\n"
   ]
  },
  {
   "cell_type": "code",
   "execution_count": 7,
   "id": "7381ed18-e19d-4de7-8ff0-a347ba0a44c4",
   "metadata": {},
   "outputs": [
    {
     "name": "stdout",
     "output_type": "stream",
     "text": [
      "   Date  CarCount  BikeCount  BusCount  TruckCount  Total  Hour  \\\n",
      "0    10        31          0         4           4     39     0   \n",
      "1    10        49          0         3           3     55     0   \n",
      "2    10        46          0         3           6     55     0   \n",
      "3    10        51          0         2           5     58     0   \n",
      "4    10        57          6        15          16     94     1   \n",
      "\n",
      "   Vehicle_Hourly_Interaction  IsWeekend  TrafficSituationEncoded  \n",
      "0                           0          0                        2  \n",
      "1                           0          0                        2  \n",
      "2                           0          0                        2  \n",
      "3                           0          0                        2  \n",
      "4                          57          0                        3  \n"
     ]
    }
   ],
   "source": [
    "# Create an interaction feature: Vehicle count and hour\n",
    "data['Vehicle_Hourly_Interaction'] = data['CarCount'] * data['Hour']\n",
    "\n",
    "# Add a feature to identify weekends (already encoded as 'IsWeekend')\n",
    "# This step is redundant if 'IsWeekend' is already correct\n",
    "print(data.head())\n"
   ]
  },
  {
   "cell_type": "code",
   "execution_count": 8,
   "id": "6970cf5a-4182-4ac6-8749-341cf0386b65",
   "metadata": {},
   "outputs": [
    {
     "name": "stdout",
     "output_type": "stream",
     "text": [
      "X_train shape: (2319, 7)\n",
      "X_test shape: (580, 7)\n",
      "y_train shape: (2319,)\n",
      "y_test shape: (580,)\n"
     ]
    }
   ],
   "source": [
    "from sklearn.model_selection import train_test_split\n",
    "\n",
    "# Define features and target\n",
    "X = data[['CarCount', 'BikeCount', 'BusCount', 'TruckCount', 'Hour', 'IsWeekend', 'TrafficSituationEncoded']]\n",
    "y = data['Total']\n",
    "\n",
    "# Split the data into training and testing sets (80% train, 20% test)\n",
    "X_train, X_test, y_train, y_test = train_test_split(X, y, test_size=0.2, random_state=42)\n",
    "\n",
    "# Verify the split\n",
    "print(f\"X_train shape: {X_train.shape}\")\n",
    "print(f\"X_test shape: {X_test.shape}\")\n",
    "print(f\"y_train shape: {y_train.shape}\")\n",
    "print(f\"y_test shape: {y_test.shape}\")\n"
   ]
  },
  {
   "cell_type": "code",
   "execution_count": 9,
   "id": "ff2a5fc7-1b87-41ac-9dad-8ab6725aa9aa",
   "metadata": {},
   "outputs": [
    {
     "name": "stdout",
     "output_type": "stream",
     "text": [
      "Linear Regression - MAE: 0.00, MSE: 0.00, R2: 1.00\n",
      "Random Forest - MAE: 2.53, MSE: 13.26, R2: 1.00\n"
     ]
    }
   ],
   "source": [
    "from sklearn.linear_model import LinearRegression\n",
    "from sklearn.ensemble import RandomForestRegressor\n",
    "from sklearn.metrics import mean_absolute_error, mean_squared_error, r2_score\n",
    "\n",
    "# Linear Regression\n",
    "lr_model = LinearRegression()\n",
    "lr_model.fit(X_train, y_train)  # Train the model\n",
    "\n",
    "# Predict on the test set\n",
    "y_pred_lr = lr_model.predict(X_test)\n",
    "\n",
    "# Evaluate Linear Regression\n",
    "mae_lr = mean_absolute_error(y_test, y_pred_lr)\n",
    "mse_lr = mean_squared_error(y_test, y_pred_lr)\n",
    "r2_lr = r2_score(y_test, y_pred_lr)\n",
    "\n",
    "print(f\"Linear Regression - MAE: {mae_lr:.2f}, MSE: {mse_lr:.2f}, R2: {r2_lr:.2f}\")\n",
    "\n",
    "# Random Forest Regressor\n",
    "rf_model = RandomForestRegressor(n_estimators=100, random_state=42)\n",
    "rf_model.fit(X_train, y_train)  # Train the model\n",
    "\n",
    "# Predict on the test set\n",
    "y_pred_rf = rf_model.predict(X_test)\n",
    "\n",
    "# Evaluate Random Forest\n",
    "mae_rf = mean_absolute_error(y_test, y_pred_rf)\n",
    "mse_rf = mean_squared_error(y_test, y_pred_rf)\n",
    "r2_rf = r2_score(y_test, y_pred_rf)\n",
    "\n",
    "print(f\"Random Forest - MAE: {mae_rf:.2f}, MSE: {mse_rf:.2f}, R2: {r2_rf:.2f}\")\n"
   ]
  },
  {
   "cell_type": "code",
   "execution_count": 10,
   "id": "8d53048f-81d4-4165-a54e-b509f6027fdb",
   "metadata": {},
   "outputs": [
    {
     "name": "stdout",
     "output_type": "stream",
     "text": [
      "Number of mismatches between 'Total' and 'CalculatedTotal': 0\n"
     ]
    }
   ],
   "source": [
    "# Verify if the target is derived from features\n",
    "data['CalculatedTotal'] = data['CarCount'] + data['BikeCount'] + data['BusCount'] + data['TruckCount']\n",
    "print(\"Number of mismatches between 'Total' and 'CalculatedTotal':\", \n",
    "      (data['Total'] != data['CalculatedTotal']).sum())\n"
   ]
  },
  {
   "cell_type": "code",
   "execution_count": 12,
   "id": "4eb3777d-d011-457c-9fc5-113e47a5fa40",
   "metadata": {},
   "outputs": [
    {
     "name": "stdout",
     "output_type": "stream",
     "text": [
      "Accuracy: 0.96\n",
      "Classification Report:\n",
      "              precision    recall  f1-score   support\n",
      "\n",
      "           0       0.96      0.96      0.96       118\n",
      "           1       0.94      0.84      0.89        61\n",
      "           2       1.00      0.98      0.99        61\n",
      "           3       0.96      0.99      0.97       340\n",
      "\n",
      "    accuracy                           0.96       580\n",
      "   macro avg       0.97      0.94      0.95       580\n",
      "weighted avg       0.96      0.96      0.96       580\n",
      "\n"
     ]
    }
   ],
   "source": [
    "# Update target to 'TrafficSituationEncoded' for classification\n",
    "X = data[['CarCount', 'BikeCount', 'BusCount', 'TruckCount', 'Hour', 'IsWeekend']]\n",
    "y = data['TrafficSituationEncoded']\n",
    "\n",
    "# Split the data\n",
    "from sklearn.model_selection import train_test_split\n",
    "X_train, X_test, y_train, y_test = train_test_split(X, y, test_size=0.2, random_state=42)\n",
    "\n",
    "# Train a Random Forest Classifier\n",
    "from sklearn.ensemble import RandomForestClassifier\n",
    "from sklearn.metrics import accuracy_score, classification_report\n",
    "\n",
    "clf = RandomForestClassifier(n_estimators=100, random_state=42)\n",
    "clf.fit(X_train, y_train)\n",
    "\n",
    "# Evaluate the model\n",
    "y_pred = clf.predict(X_test)\n",
    "print(f\"Accuracy: {accuracy_score(y_test, y_pred):.2f}\")\n",
    "print(\"Classification Report:\")\n",
    "print(classification_report(y_test, y_pred))\n"
   ]
  },
  {
   "cell_type": "code",
   "execution_count": 13,
   "id": "b763e57c-8861-4a81-9995-c08281ddc03d",
   "metadata": {},
   "outputs": [
    {
     "data": {
      "image/png": "[encoded data removed]",
      "text/plain": [
       "<Figure size 1000x600 with 1 Axes>"
      ]
     },
     "metadata": {},
     "output_type": "display_data"
    }
   ],
   "source": [
    "import matplotlib.pyplot as plt\n",
    "\n",
    "# Extract feature importances\n",
    "importances = clf.feature_importances_\n",
    "features = X_train.columns\n",
    "\n",
    "# Plot feature importance\n",
    "plt.figure(figsize=(10, 6))\n",
    "plt.barh(features, importances, color='skyblue')\n",
    "plt.title(\"Feature Importance (Random Forest Classifier)\")\n",
    "plt.xlabel(\"Importance\")\n",
    "plt.ylabel(\"Feature\")\n",
    "plt.show()\n"
   ]
  },
  {
   "cell_type": "code",
   "execution_count": 14,
   "id": "61104eb8-fc42-4cfa-867f-b1991197bb41",
   "metadata": {},
   "outputs": [
    {
     "name": "stdout",
     "output_type": "stream",
     "text": [
      "Balanced Model Accuracy: 0.96\n",
      "Balanced Classification Report:\n",
      "              precision    recall  f1-score   support\n",
      "\n",
      "           0       0.95      0.95      0.95       118\n",
      "           1       0.91      0.84      0.87        61\n",
      "           2       1.00      0.98      0.99        61\n",
      "           3       0.97      0.98      0.97       340\n",
      "\n",
      "    accuracy                           0.96       580\n",
      "   macro avg       0.96      0.94      0.95       580\n",
      "weighted avg       0.96      0.96      0.96       580\n",
      "\n"
     ]
    }
   ],
   "source": [
    "# Train a balanced Random Forest Classifier\n",
    "clf_balanced = RandomForestClassifier(n_estimators=100, random_state=42, class_weight='balanced')\n",
    "clf_balanced.fit(X_train, y_train)\n",
    "\n",
    "# Evaluate the balanced model\n",
    "y_pred_balanced = clf_balanced.predict(X_test)\n",
    "print(f\"Balanced Model Accuracy: {accuracy_score(y_test, y_pred_balanced):.2f}\")\n",
    "print(\"Balanced Classification Report:\")\n",
    "print(classification_report(y_test, y_pred_balanced))\n"
   ]
  },
  {
   "cell_type": "code",
   "execution_count": 15,
   "id": "f8e7780a-78ee-4230-9ccb-55ab2ddb1c87",
   "metadata": {},
   "outputs": [
    {
     "data": {
      "image/png": "[encoded data removed]",
      "text/plain": [
       "<Figure size 640x480 with 2 Axes>"
      ]
     },
     "metadata": {},
     "output_type": "display_data"
    }
   ],
   "source": [
    "from sklearn.metrics import ConfusionMatrixDisplay\n",
    "\n",
    "# Plot confusion matrix\n",
    "ConfusionMatrixDisplay.from_estimator(clf, X_test, y_test, display_labels=encoder.classes_, cmap='Blues')\n",
    "plt.title(\"Confusion Matrix\")\n",
    "plt.show()\n"
   ]
  },
  {
   "cell_type": "code",
   "execution_count": 16,
   "id": "317e8c87-2c2b-43e8-985a-de306d0fbc0e",
   "metadata": {},
   "outputs": [
    {
     "name": "stdout",
     "output_type": "stream",
     "text": [
      "Training Logistic Regression...\n"
     ]
    },
    {
     "name": "stderr",
     "output_type": "stream",
     "text": [
      "/usr/lib/anaconda3/lib/python3.12/site-packages/sklearn/linear_model/_logistic.py:469: ConvergenceWarning: lbfgs failed to converge (status=1):\n",
      "STOP: TOTAL NO. of ITERATIONS REACHED LIMIT.\n",
      "\n",
      "Increase the number of iterations (max_iter) or scale the data as shown in:\n",
      "    https://scikit-learn.org/stable/modules/preprocessing.html\n",
      "Please also refer to the documentation for alternative solver options:\n",
      "    https://scikit-learn.org/stable/modules/linear_model.html#logistic-regression\n",
      "  n_iter_i = _check_optimize_result(\n"
     ]
    },
    {
     "name": "stdout",
     "output_type": "stream",
     "text": [
      "Logistic Regression Accuracy: 0.89\n",
      "Classification Report:\n",
      "              precision    recall  f1-score   support\n",
      "\n",
      "           0       0.94      0.97      0.96       118\n",
      "           1       0.78      0.69      0.73        61\n",
      "           2       0.81      0.69      0.74        61\n",
      "           3       0.90      0.93      0.92       340\n",
      "\n",
      "    accuracy                           0.89       580\n",
      "   macro avg       0.86      0.82      0.84       580\n",
      "weighted avg       0.89      0.89      0.89       580\n",
      "\n",
      "--------------------------------------------------\n",
      "Training Random Forest...\n",
      "Random Forest Accuracy: 0.96\n",
      "Classification Report:\n",
      "              precision    recall  f1-score   support\n",
      "\n",
      "           0       0.96      0.96      0.96       118\n",
      "           1       0.94      0.84      0.89        61\n",
      "           2       1.00      0.98      0.99        61\n",
      "           3       0.96      0.99      0.97       340\n",
      "\n",
      "    accuracy                           0.96       580\n",
      "   macro avg       0.97      0.94      0.95       580\n",
      "weighted avg       0.96      0.96      0.96       580\n",
      "\n",
      "--------------------------------------------------\n",
      "Training Gradient Boosting...\n",
      "Gradient Boosting Accuracy: 0.96\n",
      "Classification Report:\n",
      "              precision    recall  f1-score   support\n",
      "\n",
      "           0       0.96      0.97      0.96       118\n",
      "           1       0.87      0.89      0.88        61\n",
      "           2       1.00      0.97      0.98        61\n",
      "           3       0.97      0.97      0.97       340\n",
      "\n",
      "    accuracy                           0.96       580\n",
      "   macro avg       0.95      0.95      0.95       580\n",
      "weighted avg       0.96      0.96      0.96       580\n",
      "\n",
      "--------------------------------------------------\n",
      "Training K-Nearest Neighbors...\n",
      "K-Nearest Neighbors Accuracy: 0.93\n",
      "Classification Report:\n",
      "              precision    recall  f1-score   support\n",
      "\n",
      "           0       0.94      0.99      0.96       118\n",
      "           1       0.91      0.82      0.86        61\n",
      "           2       0.81      0.85      0.83        61\n",
      "           3       0.95      0.94      0.95       340\n",
      "\n",
      "    accuracy                           0.93       580\n",
      "   macro avg       0.90      0.90      0.90       580\n",
      "weighted avg       0.93      0.93      0.93       580\n",
      "\n",
      "--------------------------------------------------\n",
      "Training Support Vector Machine...\n",
      "Support Vector Machine Accuracy: 0.91\n",
      "Classification Report:\n",
      "              precision    recall  f1-score   support\n",
      "\n",
      "           0       0.91      0.98      0.95       118\n",
      "           1       0.90      0.74      0.81        61\n",
      "           2       0.93      0.62      0.75        61\n",
      "           3       0.90      0.96      0.93       340\n",
      "\n",
      "    accuracy                           0.91       580\n",
      "   macro avg       0.91      0.83      0.86       580\n",
      "weighted avg       0.91      0.91      0.90       580\n",
      "\n",
      "--------------------------------------------------\n",
      "\n",
      "Model Comparison:\n",
      "Logistic Regression: 0.89\n",
      "Random Forest: 0.96\n",
      "Gradient Boosting: 0.96\n",
      "K-Nearest Neighbors: 0.93\n",
      "Support Vector Machine: 0.91\n"
     ]
    }
   ],
   "source": [
    "from sklearn.linear_model import LogisticRegression\n",
    "from sklearn.ensemble import RandomForestClassifier, GradientBoostingClassifier\n",
    "from sklearn.neighbors import KNeighborsClassifier\n",
    "from sklearn.svm import SVC\n",
    "from sklearn.metrics import accuracy_score, classification_report\n",
    "\n",
    "# Define models\n",
    "models = {\n",
    "    \"Logistic Regression\": LogisticRegression(max_iter=1000, random_state=42),\n",
    "    \"Random Forest\": RandomForestClassifier(n_estimators=100, random_state=42),\n",
    "    \"Gradient Boosting\": GradientBoostingClassifier(n_estimators=100, random_state=42),\n",
    "    \"K-Nearest Neighbors\": KNeighborsClassifier(n_neighbors=5),\n",
    "    \"Support Vector Machine\": SVC(kernel='rbf', probability=True, random_state=42)\n",
    "}\n",
    "\n",
    "# Store results\n",
    "results = {}\n",
    "\n",
    "# Loop through models\n",
    "for model_name, model in models.items():\n",
    "    print(f\"Training {model_name}...\")\n",
    "    model.fit(X_train, y_train)  # Train the model\n",
    "    y_pred = model.predict(X_test)  # Predict on the test set\n",
    "    \n",
    "    # Evaluate model\n",
    "    acc = accuracy_score(y_test, y_pred)\n",
    "    results[model_name] = acc\n",
    "    print(f\"{model_name} Accuracy: {acc:.2f}\")\n",
    "    print(\"Classification Report:\")\n",
    "    print(classification_report(y_test, y_pred))\n",
    "    print(\"-\" * 50)\n",
    "\n",
    "# Compare model accuracies\n",
    "print(\"\\nModel Comparison:\")\n",
    "for model_name, acc in results.items():\n",
    "    print(f\"{model_name}: {acc:.2f}\")\n"
   ]
  }
 ],
 "metadata": {
  "kernelspec": {
   "display_name": "Python 3 (ipykernel)",
   "language": "python",
   "name": "python3"
  },
  "language_info": {
   "codemirror_mode": {
    "name": "ipython",
    "version": 3
   },
   "file_extension": ".py",
   "mimetype": "text/x-python",
   "name": "python",
   "nbconvert_exporter": "python",
   "pygments_lexer": "ipython3",
   "version": "3.12.2"
  }
 },
 "nbformat": 4,
 "nbformat_minor": 5
}
